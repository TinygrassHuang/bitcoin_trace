{
 "cells": [
  {
   "cell_type": "markdown",
   "source": [
    "# Get data"
   ],
   "metadata": {
    "collapsed": false,
    "id": "trnJaoRpY9DK"
   }
  },
  {
   "cell_type": "code",
   "source": [
    "from google.colab import drive\n",
    "drive.mount('/content/drive')"
   ],
   "metadata": {
    "colab": {
     "base_uri": "https://localhost:8080/"
    },
    "id": "3Frf3270ZqMy",
    "executionInfo": {
     "status": "ok",
     "timestamp": 1660952990846,
     "user_tz": -60,
     "elapsed": 25646,
     "user": {
      "displayName": "Zhiping Huang",
      "userId": "02292109596216248154"
     }
    },
    "outputId": "6ac5762f-29a1-407c-eaaa-f7c70ba5afae"
   },
   "execution_count": 1,
   "outputs": [
    {
     "output_type": "stream",
     "name": "stdout",
     "text": [
      "Mounted at /content/drive\n"
     ]
    }
   ]
  },
  {
   "cell_type": "code",
   "metadata": {
    "pycharm": {
     "name": "#%%\n"
    },
    "colab": {
     "base_uri": "https://localhost:8080/",
     "height": 730
    },
    "id": "jnhN5B07Y9DL",
    "executionInfo": {
     "status": "ok",
     "timestamp": 1660954308274,
     "user_tz": -60,
     "elapsed": 240,
     "user": {
      "displayName": "Zhiping Huang",
      "userId": "02292109596216248154"
     }
    },
    "outputId": "c295b256-0acc-40ba-d9ca-d6b2bf41d59a"
   },
   "source": [
    "import numpy as np\n",
    "import pandas as pd\n",
    "import matplotlib.pyplot as plt\n",
    "\n",
    "data = pd.read_csv(\"/content/drive/MyDrive/new_full_data.csv\")\n",
    "data.dropna(inplace=True)\n",
    "data = data.sample(frac=1).reset_index()\n",
    "print(\"Original Feature counts:\", len(data.columns))\n",
    "print(data.columns)\n",
    "data"
   ],
   "execution_count": 23,
   "outputs": [
    {
     "output_type": "stream",
     "name": "stdout",
     "text": [
      "Original Feature counts: 43\n",
      "Index(['index', 'Unnamed: 0', 'entity', 'address', 'label', 'n_transactions',\n",
      "       'block_height_max-min', 'fee_mean', 'fee_median', 'fee_std', 'fee_min',\n",
      "       'fee_max', 'fee_max-min', 'size_mean', 'size_median', 'size_std',\n",
      "       'size_min', 'size_max', 'weight_mean', 'weight_median', 'weight_std',\n",
      "       'weight_min', 'weight_max', 'vin_sz_mean', 'vin_sz_median',\n",
      "       'vin_sz_std', 'vin_sz_min', 'vin_sz_max', 'vout_sz_mean',\n",
      "       'vout_sz_median', 'vout_sz_std', 'vout_sz_min', 'vout_sz_max',\n",
      "       'inputsAmount_mean', 'inputsAmount_median', 'inputsAmount_std',\n",
      "       'inputsAmount_min', 'inputsAmount_max', 'outputsAmount_mean',\n",
      "       'outputsAmount_median', 'outputsAmount_std', 'outputsAmount_min',\n",
      "       'outputsAmount_max'],\n",
      "      dtype='object')\n"
     ]
    },
    {
     "output_type": "execute_result",
     "data": {
      "text/plain": [
       "      index  Unnamed: 0                  entity  \\\n",
       "0      1106        1106              Kraken.com   \n",
       "1       368         368             Huobi.com-2   \n",
       "2      2977        2977             AntPool.com   \n",
       "3      9820        9820      BlueSkyMarketplace   \n",
       "4      6042        6042         SatoshiDice.com   \n",
       "...     ...         ...                     ...   \n",
       "9971   2065        2065                BTCCPool   \n",
       "9972   9128        9128  MiddleEarthMarketplace   \n",
       "9973   1717        1717            Bitstamp.net   \n",
       "9974   8229        8229     SilkRoadMarketplace   \n",
       "9975    318         318             Huobi.com-2   \n",
       "\n",
       "                                 address      label  n_transactions  \\\n",
       "0     36GNnB2G8mo7nv62MmtH4sUUg647rFxrwP  exchanges         25247.0   \n",
       "1     1PnYB6Jqtw9ThZbHs7o8B9Agy4x39ac8sJ  exchanges           922.0   \n",
       "2     1CAqiskgfXEPgWoywd4NxNqzzmCnsvLaLm       pool             2.0   \n",
       "3     1GGJgpfyZiAnkPTGfZT6tApkvLhKatYfhr    darknet            74.0   \n",
       "4     17GBQm75DG6U2SvJyj1gZNF8p3odLg7FVu   gambling           221.0   \n",
       "...                                  ...        ...             ...   \n",
       "9971  15vRVZqTw9zbD5W3iCe48ksD9s9tbBqxLh       pool           989.0   \n",
       "9972  1AA9DXNrbCffE6FpRU6GRc5kJW6nqxZfX2    darknet            60.0   \n",
       "9973  3HchkpYbRKhsgKyWuaEN4wuGw8Wu45PWqu  exchanges             3.0   \n",
       "9974  12c82JQqfRsvoYvmbyWYY2zAAUa9BYXhSo    darknet            19.0   \n",
       "9975  19fyS43PJPFt8x13ur821fBNRhp2oSEgpa  exchanges           802.0   \n",
       "\n",
       "      block_height_max-min     fee_mean  fee_median      fee_std  ...  \\\n",
       "0                    656.0   45718.6400      5780.0   59726.5536  ...   \n",
       "1                  35922.0   86417.0400     14840.0  282090.8724  ...   \n",
       "2                   3158.0   54127.0000     54127.0   41405.0000  ...   \n",
       "3                  39716.0   10270.2703     10000.0    1621.6216  ...   \n",
       "4                   3953.0   14828.8700     11300.0   15407.1051  ...   \n",
       "...                    ...          ...         ...          ...  ...   \n",
       "9971               25670.0  158223.9900     71762.0  276864.6726  ...   \n",
       "9972               47710.0   21833.3333     20000.0   17934.2937  ...   \n",
       "9973               12896.0  332899.0000    163515.0  341584.5034  ...   \n",
       "9974              146382.0  183684.2105     50000.0  335217.2984  ...   \n",
       "9975               40029.0  110808.4800     13480.0  338409.8151  ...   \n",
       "\n",
       "      inputsAmount_mean  inputsAmount_median  inputsAmount_std  \\\n",
       "0          4.220429e+09         7.574866e+06      6.722838e+09   \n",
       "1          8.900604e+09         3.539601e+09      1.533678e+10   \n",
       "2          4.508124e+10         4.508124e+10      2.492013e+10   \n",
       "3          1.830715e+08         5.885172e+07      3.091128e+08   \n",
       "4          1.359106e+08         4.366963e+07      2.516681e+08   \n",
       "...                 ...                  ...               ...   \n",
       "9971       4.092769e+09         2.376145e+09      7.142413e+09   \n",
       "9972       8.317041e+08         4.195185e+08      1.071412e+09   \n",
       "9973       1.635377e+09         5.799171e+08      1.913137e+09   \n",
       "9974       4.493679e+09         1.401136e+09      6.290862e+09   \n",
       "9975       1.215164e+10         4.476570e+09      1.962510e+10   \n",
       "\n",
       "      inputsAmount_min  inputsAmount_max  outputsAmount_mean  \\\n",
       "0         2.120580e+05      3.638894e+10        4.220383e+09   \n",
       "1         2.158174e+07      1.029087e+11        8.900518e+09   \n",
       "2         2.016111e+10      7.000136e+10        4.508118e+10   \n",
       "3         1.000000e+07      1.675246e+09        1.830612e+08   \n",
       "4         8.775000e+05      1.849983e+09        1.358958e+08   \n",
       "...                ...               ...                 ...   \n",
       "9971      1.004325e+08      3.000116e+10        4.092610e+09   \n",
       "9972      6.428325e+07      5.309904e+09        8.316823e+08   \n",
       "9973      5.644594e+06      4.320570e+09        1.635044e+09   \n",
       "9974      3.190305e+08      2.110100e+10        4.493496e+09   \n",
       "9975      1.548214e+07      9.764167e+10        1.215153e+10   \n",
       "\n",
       "      outputsAmount_median  outputsAmount_std  outputsAmount_min  \\\n",
       "0             7.569472e+06       6.722806e+09       2.087940e+05   \n",
       "1             3.539576e+09       1.533673e+10       2.153707e+07   \n",
       "2             4.508118e+10       2.492009e+10       2.016110e+10   \n",
       "3             5.883672e+07       3.091129e+08       9.990000e+06   \n",
       "4             4.365398e+07       2.516567e+08       8.662000e+05   \n",
       "...                    ...                ...                ...   \n",
       "9971          2.376055e+09       7.142409e+09       1.000000e+08   \n",
       "9972          4.194935e+08       1.071413e+09       6.424325e+07   \n",
       "9973          5.797536e+08       1.912796e+09       5.618796e+06   \n",
       "9974          1.401086e+09       6.290794e+09       3.189805e+08   \n",
       "9975          4.476557e+09       1.962503e+10       1.543747e+07   \n",
       "\n",
       "      outputsAmount_max  \n",
       "0          3.638890e+10  \n",
       "1          1.029080e+11  \n",
       "2          7.000127e+10  \n",
       "3          1.675236e+09  \n",
       "4          1.849838e+09  \n",
       "...                 ...  \n",
       "9971       3.000100e+10  \n",
       "9972       5.309884e+09  \n",
       "9973       4.319760e+09  \n",
       "9974       2.110100e+10  \n",
       "9975       9.764089e+10  \n",
       "\n",
       "[9976 rows x 43 columns]"
      ],
      "text/html": [
       "\n",
       "  <div id=\"df-eb3d94dd-8b6b-47bc-bb4d-16d31aa84233\">\n",
       "    <div class=\"colab-df-container\">\n",
       "      <div>\n",
       "<style scoped>\n",
       "    .dataframe tbody tr th:only-of-type {\n",
       "        vertical-align: middle;\n",
       "    }\n",
       "\n",
       "    .dataframe tbody tr th {\n",
       "        vertical-align: top;\n",
       "    }\n",
       "\n",
       "    .dataframe thead th {\n",
       "        text-align: right;\n",
       "    }\n",
       "</style>\n",
       "<table border=\"1\" class=\"dataframe\">\n",
       "  <thead>\n",
       "    <tr style=\"text-align: right;\">\n",
       "      <th></th>\n",
       "      <th>index</th>\n",
       "      <th>Unnamed: 0</th>\n",
       "      <th>entity</th>\n",
       "      <th>address</th>\n",
       "      <th>label</th>\n",
       "      <th>n_transactions</th>\n",
       "      <th>block_height_max-min</th>\n",
       "      <th>fee_mean</th>\n",
       "      <th>fee_median</th>\n",
       "      <th>fee_std</th>\n",
       "      <th>...</th>\n",
       "      <th>inputsAmount_mean</th>\n",
       "      <th>inputsAmount_median</th>\n",
       "      <th>inputsAmount_std</th>\n",
       "      <th>inputsAmount_min</th>\n",
       "      <th>inputsAmount_max</th>\n",
       "      <th>outputsAmount_mean</th>\n",
       "      <th>outputsAmount_median</th>\n",
       "      <th>outputsAmount_std</th>\n",
       "      <th>outputsAmount_min</th>\n",
       "      <th>outputsAmount_max</th>\n",
       "    </tr>\n",
       "  </thead>\n",
       "  <tbody>\n",
       "    <tr>\n",
       "      <th>0</th>\n",
       "      <td>1106</td>\n",
       "      <td>1106</td>\n",
       "      <td>Kraken.com</td>\n",
       "      <td>36GNnB2G8mo7nv62MmtH4sUUg647rFxrwP</td>\n",
       "      <td>exchanges</td>\n",
       "      <td>25247.0</td>\n",
       "      <td>656.0</td>\n",
       "      <td>45718.6400</td>\n",
       "      <td>5780.0</td>\n",
       "      <td>59726.5536</td>\n",
       "      <td>...</td>\n",
       "      <td>4.220429e+09</td>\n",
       "      <td>7.574866e+06</td>\n",
       "      <td>6.722838e+09</td>\n",
       "      <td>2.120580e+05</td>\n",
       "      <td>3.638894e+10</td>\n",
       "      <td>4.220383e+09</td>\n",
       "      <td>7.569472e+06</td>\n",
       "      <td>6.722806e+09</td>\n",
       "      <td>2.087940e+05</td>\n",
       "      <td>3.638890e+10</td>\n",
       "    </tr>\n",
       "    <tr>\n",
       "      <th>1</th>\n",
       "      <td>368</td>\n",
       "      <td>368</td>\n",
       "      <td>Huobi.com-2</td>\n",
       "      <td>1PnYB6Jqtw9ThZbHs7o8B9Agy4x39ac8sJ</td>\n",
       "      <td>exchanges</td>\n",
       "      <td>922.0</td>\n",
       "      <td>35922.0</td>\n",
       "      <td>86417.0400</td>\n",
       "      <td>14840.0</td>\n",
       "      <td>282090.8724</td>\n",
       "      <td>...</td>\n",
       "      <td>8.900604e+09</td>\n",
       "      <td>3.539601e+09</td>\n",
       "      <td>1.533678e+10</td>\n",
       "      <td>2.158174e+07</td>\n",
       "      <td>1.029087e+11</td>\n",
       "      <td>8.900518e+09</td>\n",
       "      <td>3.539576e+09</td>\n",
       "      <td>1.533673e+10</td>\n",
       "      <td>2.153707e+07</td>\n",
       "      <td>1.029080e+11</td>\n",
       "    </tr>\n",
       "    <tr>\n",
       "      <th>2</th>\n",
       "      <td>2977</td>\n",
       "      <td>2977</td>\n",
       "      <td>AntPool.com</td>\n",
       "      <td>1CAqiskgfXEPgWoywd4NxNqzzmCnsvLaLm</td>\n",
       "      <td>pool</td>\n",
       "      <td>2.0</td>\n",
       "      <td>3158.0</td>\n",
       "      <td>54127.0000</td>\n",
       "      <td>54127.0</td>\n",
       "      <td>41405.0000</td>\n",
       "      <td>...</td>\n",
       "      <td>4.508124e+10</td>\n",
       "      <td>4.508124e+10</td>\n",
       "      <td>2.492013e+10</td>\n",
       "      <td>2.016111e+10</td>\n",
       "      <td>7.000136e+10</td>\n",
       "      <td>4.508118e+10</td>\n",
       "      <td>4.508118e+10</td>\n",
       "      <td>2.492009e+10</td>\n",
       "      <td>2.016110e+10</td>\n",
       "      <td>7.000127e+10</td>\n",
       "    </tr>\n",
       "    <tr>\n",
       "      <th>3</th>\n",
       "      <td>9820</td>\n",
       "      <td>9820</td>\n",
       "      <td>BlueSkyMarketplace</td>\n",
       "      <td>1GGJgpfyZiAnkPTGfZT6tApkvLhKatYfhr</td>\n",
       "      <td>darknet</td>\n",
       "      <td>74.0</td>\n",
       "      <td>39716.0</td>\n",
       "      <td>10270.2703</td>\n",
       "      <td>10000.0</td>\n",
       "      <td>1621.6216</td>\n",
       "      <td>...</td>\n",
       "      <td>1.830715e+08</td>\n",
       "      <td>5.885172e+07</td>\n",
       "      <td>3.091128e+08</td>\n",
       "      <td>1.000000e+07</td>\n",
       "      <td>1.675246e+09</td>\n",
       "      <td>1.830612e+08</td>\n",
       "      <td>5.883672e+07</td>\n",
       "      <td>3.091129e+08</td>\n",
       "      <td>9.990000e+06</td>\n",
       "      <td>1.675236e+09</td>\n",
       "    </tr>\n",
       "    <tr>\n",
       "      <th>4</th>\n",
       "      <td>6042</td>\n",
       "      <td>6042</td>\n",
       "      <td>SatoshiDice.com</td>\n",
       "      <td>17GBQm75DG6U2SvJyj1gZNF8p3odLg7FVu</td>\n",
       "      <td>gambling</td>\n",
       "      <td>221.0</td>\n",
       "      <td>3953.0</td>\n",
       "      <td>14828.8700</td>\n",
       "      <td>11300.0</td>\n",
       "      <td>15407.1051</td>\n",
       "      <td>...</td>\n",
       "      <td>1.359106e+08</td>\n",
       "      <td>4.366963e+07</td>\n",
       "      <td>2.516681e+08</td>\n",
       "      <td>8.775000e+05</td>\n",
       "      <td>1.849983e+09</td>\n",
       "      <td>1.358958e+08</td>\n",
       "      <td>4.365398e+07</td>\n",
       "      <td>2.516567e+08</td>\n",
       "      <td>8.662000e+05</td>\n",
       "      <td>1.849838e+09</td>\n",
       "    </tr>\n",
       "    <tr>\n",
       "      <th>...</th>\n",
       "      <td>...</td>\n",
       "      <td>...</td>\n",
       "      <td>...</td>\n",
       "      <td>...</td>\n",
       "      <td>...</td>\n",
       "      <td>...</td>\n",
       "      <td>...</td>\n",
       "      <td>...</td>\n",
       "      <td>...</td>\n",
       "      <td>...</td>\n",
       "      <td>...</td>\n",
       "      <td>...</td>\n",
       "      <td>...</td>\n",
       "      <td>...</td>\n",
       "      <td>...</td>\n",
       "      <td>...</td>\n",
       "      <td>...</td>\n",
       "      <td>...</td>\n",
       "      <td>...</td>\n",
       "      <td>...</td>\n",
       "      <td>...</td>\n",
       "    </tr>\n",
       "    <tr>\n",
       "      <th>9971</th>\n",
       "      <td>2065</td>\n",
       "      <td>2065</td>\n",
       "      <td>BTCCPool</td>\n",
       "      <td>15vRVZqTw9zbD5W3iCe48ksD9s9tbBqxLh</td>\n",
       "      <td>pool</td>\n",
       "      <td>989.0</td>\n",
       "      <td>25670.0</td>\n",
       "      <td>158223.9900</td>\n",
       "      <td>71762.0</td>\n",
       "      <td>276864.6726</td>\n",
       "      <td>...</td>\n",
       "      <td>4.092769e+09</td>\n",
       "      <td>2.376145e+09</td>\n",
       "      <td>7.142413e+09</td>\n",
       "      <td>1.004325e+08</td>\n",
       "      <td>3.000116e+10</td>\n",
       "      <td>4.092610e+09</td>\n",
       "      <td>2.376055e+09</td>\n",
       "      <td>7.142409e+09</td>\n",
       "      <td>1.000000e+08</td>\n",
       "      <td>3.000100e+10</td>\n",
       "    </tr>\n",
       "    <tr>\n",
       "      <th>9972</th>\n",
       "      <td>9128</td>\n",
       "      <td>9128</td>\n",
       "      <td>MiddleEarthMarketplace</td>\n",
       "      <td>1AA9DXNrbCffE6FpRU6GRc5kJW6nqxZfX2</td>\n",
       "      <td>darknet</td>\n",
       "      <td>60.0</td>\n",
       "      <td>47710.0</td>\n",
       "      <td>21833.3333</td>\n",
       "      <td>20000.0</td>\n",
       "      <td>17934.2937</td>\n",
       "      <td>...</td>\n",
       "      <td>8.317041e+08</td>\n",
       "      <td>4.195185e+08</td>\n",
       "      <td>1.071412e+09</td>\n",
       "      <td>6.428325e+07</td>\n",
       "      <td>5.309904e+09</td>\n",
       "      <td>8.316823e+08</td>\n",
       "      <td>4.194935e+08</td>\n",
       "      <td>1.071413e+09</td>\n",
       "      <td>6.424325e+07</td>\n",
       "      <td>5.309884e+09</td>\n",
       "    </tr>\n",
       "    <tr>\n",
       "      <th>9973</th>\n",
       "      <td>1717</td>\n",
       "      <td>1717</td>\n",
       "      <td>Bitstamp.net</td>\n",
       "      <td>3HchkpYbRKhsgKyWuaEN4wuGw8Wu45PWqu</td>\n",
       "      <td>exchanges</td>\n",
       "      <td>3.0</td>\n",
       "      <td>12896.0</td>\n",
       "      <td>332899.0000</td>\n",
       "      <td>163515.0</td>\n",
       "      <td>341584.5034</td>\n",
       "      <td>...</td>\n",
       "      <td>1.635377e+09</td>\n",
       "      <td>5.799171e+08</td>\n",
       "      <td>1.913137e+09</td>\n",
       "      <td>5.644594e+06</td>\n",
       "      <td>4.320570e+09</td>\n",
       "      <td>1.635044e+09</td>\n",
       "      <td>5.797536e+08</td>\n",
       "      <td>1.912796e+09</td>\n",
       "      <td>5.618796e+06</td>\n",
       "      <td>4.319760e+09</td>\n",
       "    </tr>\n",
       "    <tr>\n",
       "      <th>9974</th>\n",
       "      <td>8229</td>\n",
       "      <td>8229</td>\n",
       "      <td>SilkRoadMarketplace</td>\n",
       "      <td>12c82JQqfRsvoYvmbyWYY2zAAUa9BYXhSo</td>\n",
       "      <td>darknet</td>\n",
       "      <td>19.0</td>\n",
       "      <td>146382.0</td>\n",
       "      <td>183684.2105</td>\n",
       "      <td>50000.0</td>\n",
       "      <td>335217.2984</td>\n",
       "      <td>...</td>\n",
       "      <td>4.493679e+09</td>\n",
       "      <td>1.401136e+09</td>\n",
       "      <td>6.290862e+09</td>\n",
       "      <td>3.190305e+08</td>\n",
       "      <td>2.110100e+10</td>\n",
       "      <td>4.493496e+09</td>\n",
       "      <td>1.401086e+09</td>\n",
       "      <td>6.290794e+09</td>\n",
       "      <td>3.189805e+08</td>\n",
       "      <td>2.110100e+10</td>\n",
       "    </tr>\n",
       "    <tr>\n",
       "      <th>9975</th>\n",
       "      <td>318</td>\n",
       "      <td>318</td>\n",
       "      <td>Huobi.com-2</td>\n",
       "      <td>19fyS43PJPFt8x13ur821fBNRhp2oSEgpa</td>\n",
       "      <td>exchanges</td>\n",
       "      <td>802.0</td>\n",
       "      <td>40029.0</td>\n",
       "      <td>110808.4800</td>\n",
       "      <td>13480.0</td>\n",
       "      <td>338409.8151</td>\n",
       "      <td>...</td>\n",
       "      <td>1.215164e+10</td>\n",
       "      <td>4.476570e+09</td>\n",
       "      <td>1.962510e+10</td>\n",
       "      <td>1.548214e+07</td>\n",
       "      <td>9.764167e+10</td>\n",
       "      <td>1.215153e+10</td>\n",
       "      <td>4.476557e+09</td>\n",
       "      <td>1.962503e+10</td>\n",
       "      <td>1.543747e+07</td>\n",
       "      <td>9.764089e+10</td>\n",
       "    </tr>\n",
       "  </tbody>\n",
       "</table>\n",
       "<p>9976 rows × 43 columns</p>\n",
       "</div>\n",
       "      <button class=\"colab-df-convert\" onclick=\"convertToInteractive('df-eb3d94dd-8b6b-47bc-bb4d-16d31aa84233')\"\n",
       "              title=\"Convert this dataframe to an interactive table.\"\n",
       "              style=\"display:none;\">\n",
       "        \n",
       "  <svg xmlns=\"http://www.w3.org/2000/svg\" height=\"24px\"viewBox=\"0 0 24 24\"\n",
       "       width=\"24px\">\n",
       "    <path d=\"M0 0h24v24H0V0z\" fill=\"none\"/>\n",
       "    <path d=\"M18.56 5.44l.94 2.06.94-2.06 2.06-.94-2.06-.94-.94-2.06-.94 2.06-2.06.94zm-11 1L8.5 8.5l.94-2.06 2.06-.94-2.06-.94L8.5 2.5l-.94 2.06-2.06.94zm10 10l.94 2.06.94-2.06 2.06-.94-2.06-.94-.94-2.06-.94 2.06-2.06.94z\"/><path d=\"M17.41 7.96l-1.37-1.37c-.4-.4-.92-.59-1.43-.59-.52 0-1.04.2-1.43.59L10.3 9.45l-7.72 7.72c-.78.78-.78 2.05 0 2.83L4 21.41c.39.39.9.59 1.41.59.51 0 1.02-.2 1.41-.59l7.78-7.78 2.81-2.81c.8-.78.8-2.07 0-2.86zM5.41 20L4 18.59l7.72-7.72 1.47 1.35L5.41 20z\"/>\n",
       "  </svg>\n",
       "      </button>\n",
       "      \n",
       "  <style>\n",
       "    .colab-df-container {\n",
       "      display:flex;\n",
       "      flex-wrap:wrap;\n",
       "      gap: 12px;\n",
       "    }\n",
       "\n",
       "    .colab-df-convert {\n",
       "      background-color: #E8F0FE;\n",
       "      border: none;\n",
       "      border-radius: 50%;\n",
       "      cursor: pointer;\n",
       "      display: none;\n",
       "      fill: #1967D2;\n",
       "      height: 32px;\n",
       "      padding: 0 0 0 0;\n",
       "      width: 32px;\n",
       "    }\n",
       "\n",
       "    .colab-df-convert:hover {\n",
       "      background-color: #E2EBFA;\n",
       "      box-shadow: 0px 1px 2px rgba(60, 64, 67, 0.3), 0px 1px 3px 1px rgba(60, 64, 67, 0.15);\n",
       "      fill: #174EA6;\n",
       "    }\n",
       "\n",
       "    [theme=dark] .colab-df-convert {\n",
       "      background-color: #3B4455;\n",
       "      fill: #D2E3FC;\n",
       "    }\n",
       "\n",
       "    [theme=dark] .colab-df-convert:hover {\n",
       "      background-color: #434B5C;\n",
       "      box-shadow: 0px 1px 3px 1px rgba(0, 0, 0, 0.15);\n",
       "      filter: drop-shadow(0px 1px 2px rgba(0, 0, 0, 0.3));\n",
       "      fill: #FFFFFF;\n",
       "    }\n",
       "  </style>\n",
       "\n",
       "      <script>\n",
       "        const buttonEl =\n",
       "          document.querySelector('#df-eb3d94dd-8b6b-47bc-bb4d-16d31aa84233 button.colab-df-convert');\n",
       "        buttonEl.style.display =\n",
       "          google.colab.kernel.accessAllowed ? 'block' : 'none';\n",
       "\n",
       "        async function convertToInteractive(key) {\n",
       "          const element = document.querySelector('#df-eb3d94dd-8b6b-47bc-bb4d-16d31aa84233');\n",
       "          const dataTable =\n",
       "            await google.colab.kernel.invokeFunction('convertToInteractive',\n",
       "                                                     [key], {});\n",
       "          if (!dataTable) return;\n",
       "\n",
       "          const docLinkHtml = 'Like what you see? Visit the ' +\n",
       "            '<a target=\"_blank\" href=https://colab.research.google.com/notebooks/data_table.ipynb>data table notebook</a>'\n",
       "            + ' to learn more about interactive tables.';\n",
       "          element.innerHTML = '';\n",
       "          dataTable['output_type'] = 'display_data';\n",
       "          await google.colab.output.renderOutput(dataTable, element);\n",
       "          const docLink = document.createElement('div');\n",
       "          docLink.innerHTML = docLinkHtml;\n",
       "          element.appendChild(docLink);\n",
       "        }\n",
       "      </script>\n",
       "    </div>\n",
       "  </div>\n",
       "  "
      ]
     },
     "metadata": {},
     "execution_count": 23
    }
   ]
  },
  {
   "cell_type": "code",
   "execution_count": 24,
   "outputs": [
    {
     "output_type": "stream",
     "name": "stdout",
     "text": [
      "Index(['n_transactions', 'block_height_max-min', 'fee_mean', 'fee_median',\n",
      "       'fee_std', 'fee_min', 'fee_max', 'fee_max-min', 'size_mean',\n",
      "       'size_median', 'size_std', 'size_min', 'size_max', 'weight_mean',\n",
      "       'weight_median', 'weight_std', 'weight_min', 'weight_max',\n",
      "       'vin_sz_mean', 'vin_sz_median', 'vin_sz_std', 'vin_sz_min',\n",
      "       'vin_sz_max', 'vout_sz_mean', 'vout_sz_median', 'vout_sz_std',\n",
      "       'vout_sz_min', 'vout_sz_max', 'inputsAmount_mean',\n",
      "       'inputsAmount_median', 'inputsAmount_std', 'inputsAmount_min',\n",
      "       'inputsAmount_max', 'outputsAmount_mean', 'outputsAmount_median',\n",
      "       'outputsAmount_std', 'outputsAmount_min', 'outputsAmount_max'],\n",
      "      dtype='object')\n"
     ]
    },
    {
     "output_type": "execute_result",
     "data": {
      "text/plain": [
       "0       exchanges\n",
       "1       exchanges\n",
       "2            pool\n",
       "3         darknet\n",
       "4        gambling\n",
       "          ...    \n",
       "9971         pool\n",
       "9972      darknet\n",
       "9973    exchanges\n",
       "9974      darknet\n",
       "9975    exchanges\n",
       "Name: label, Length: 9976, dtype: object"
      ]
     },
     "metadata": {},
     "execution_count": 24
    }
   ],
   "source": [
    "# X = data.drop([\"Unnamed: 0\", \"address\", \"label\",\"confirmations_mean\",\"confirmations_median\",\"confirmations_std\",\"confirmations_min\",\"confirmations_max\"], axis=1)\n",
    "X = data.drop([\"index\",\"Unnamed: 0\", \"entity\", \"address\", \"label\"], axis=1)\n",
    "y = data[\"label\"]\n",
    "print(X.columns)\n",
    "y"
   ],
   "metadata": {
    "pycharm": {
     "name": "#%%\n"
    },
    "colab": {
     "base_uri": "https://localhost:8080/"
    },
    "id": "BubHaTzfY9DM",
    "executionInfo": {
     "status": "ok",
     "timestamp": 1660954310581,
     "user_tz": -60,
     "elapsed": 2,
     "user": {
      "displayName": "Zhiping Huang",
      "userId": "02292109596216248154"
     }
    },
    "outputId": "9d79eee6-b60e-435c-ba48-7896420be5a8"
   }
  },
  {
   "cell_type": "markdown",
   "source": [
    "# Preprocess Data"
   ],
   "metadata": {
    "collapsed": false,
    "id": "8PAI8ItFY9DN"
   }
  },
  {
   "cell_type": "code",
   "execution_count": 25,
   "outputs": [],
   "source": [
    "from sklearn.preprocessing import LabelEncoder, StandardScaler\n",
    "from keras.utils import np_utils\n",
    "from sklearn.model_selection import train_test_split\n",
    "\n",
    "seed = 1\n",
    "X_train, X_test, y_train, y_test = train_test_split(X.values, y.values, test_size=0.1,)# random_state=seed)\n",
    "\n",
    "le = LabelEncoder()\n",
    "se = StandardScaler()\n",
    "\n",
    "X_train = se.fit_transform(X_train)\n",
    "y_train = le.fit_transform(y_train)\n",
    "y_train = np_utils.to_categorical(y_train)\n",
    "\n",
    "X_test = se.transform(X_test)\n",
    "y_test = le.transform(y_test)\n",
    "y_test = np_utils.to_categorical(y_test)\n"
   ],
   "metadata": {
    "pycharm": {
     "name": "#%%\n"
    },
    "id": "OIuYEqOZY9DN",
    "executionInfo": {
     "status": "ok",
     "timestamp": 1660954312742,
     "user_tz": -60,
     "elapsed": 1,
     "user": {
      "displayName": "Zhiping Huang",
      "userId": "02292109596216248154"
     }
    }
   }
  },
  {
   "cell_type": "markdown",
   "source": [
    "# Training"
   ],
   "metadata": {
    "id": "i_QOcZ7ddJze"
   }
  },
  {
   "cell_type": "code",
   "source": [
    "from keras.models import Sequential\n",
    "from keras.layers import Dense\n",
    "from keras.wrappers.scikit_learn import KerasClassifier\n",
    "\n",
    "def construct_model():\n",
    "  model = Sequential()\n",
    "  model.add(Dense(units=300, activation=\"relu\", input_dim=38))\n",
    "  model.add(Dense(units=300, activation=\"relu\"))\n",
    "  model.add(Dense(units=300, activation=\"relu\"))\n",
    "  model.add(Dense(units=5, activation='softmax'))\n",
    "  model.compile(loss='categorical_crossentropy',\n",
    "              optimizer='adam',\n",
    "              metrics=['accuracy'])\n",
    "  return model\n",
    "\n",
    "def plot_metric(history, metric):\n",
    "  train_metrics = history.history[metric]\n",
    "  val_metrics = history.history['val_'+metric]\n",
    "  epochs = range(1, len(train_metrics) + 1)\n",
    "  plt.plot(epochs, train_metrics)\n",
    "  plt.plot(epochs, val_metrics)\n",
    "  plt.title('Training and validation '+ metric)\n",
    "  plt.xlabel(\"Epochs\")\n",
    "  plt.ylabel(metric)\n",
    "  plt.legend([\"train_\"+metric, 'val_'+metric])\n",
    "  plt.show()\n",
    "\n"
   ],
   "metadata": {
    "id": "CLF1OQWWdEXl",
    "executionInfo": {
     "status": "ok",
     "timestamp": 1660954315222,
     "user_tz": -60,
     "elapsed": 217,
     "user": {
      "displayName": "Zhiping Huang",
      "userId": "02292109596216248154"
     }
    }
   },
   "execution_count": 26,
   "outputs": []
  },
  {
   "cell_type": "code",
   "source": [
    "long_model = construct_model()\n",
    "long_history = long_model.fit(X_train, y_train, validation_split=0.1, batch_size=50, epochs=100, shuffle=True)"
   ],
   "metadata": {
    "colab": {
     "base_uri": "https://localhost:8080/"
    },
    "id": "5UM-MYBCWGOf",
    "executionInfo": {
     "status": "ok",
     "timestamp": 1660954374965,
     "user_tz": -60,
     "elapsed": 57392,
     "user": {
      "displayName": "Zhiping Huang",
      "userId": "02292109596216248154"
     }
    },
    "outputId": "0e98f3c4-b68c-4b3f-bfcd-f90d88bb35fa"
   },
   "execution_count": 27,
   "outputs": [
    {
     "output_type": "stream",
     "name": "stdout",
     "text": [
      "Epoch 1/100\n",
      "162/162 [==============================] - 1s 4ms/step - loss: 1.0300 - accuracy: 0.5830 - val_loss: 0.8717 - val_accuracy: 0.6225\n",
      "Epoch 2/100\n",
      "162/162 [==============================] - 1s 3ms/step - loss: 0.7848 - accuracy: 0.6938 - val_loss: 0.7334 - val_accuracy: 0.7094\n",
      "Epoch 3/100\n",
      "162/162 [==============================] - 1s 3ms/step - loss: 0.6728 - accuracy: 0.7319 - val_loss: 0.7104 - val_accuracy: 0.7517\n",
      "Epoch 4/100\n",
      "162/162 [==============================] - 1s 3ms/step - loss: 0.6343 - accuracy: 0.7561 - val_loss: 0.7575 - val_accuracy: 0.7205\n",
      "Epoch 5/100\n",
      "162/162 [==============================] - 1s 3ms/step - loss: 0.5721 - accuracy: 0.7735 - val_loss: 0.5995 - val_accuracy: 0.7695\n",
      "Epoch 6/100\n",
      "162/162 [==============================] - 1s 3ms/step - loss: 0.5520 - accuracy: 0.7890 - val_loss: 0.6490 - val_accuracy: 0.7795\n",
      "Epoch 7/100\n",
      "162/162 [==============================] - 1s 3ms/step - loss: 0.5122 - accuracy: 0.8038 - val_loss: 0.5692 - val_accuracy: 0.7873\n",
      "Epoch 8/100\n",
      "162/162 [==============================] - 1s 6ms/step - loss: 0.4892 - accuracy: 0.8103 - val_loss: 0.5185 - val_accuracy: 0.8163\n",
      "Epoch 9/100\n",
      "162/162 [==============================] - 1s 4ms/step - loss: 0.4615 - accuracy: 0.8259 - val_loss: 0.5518 - val_accuracy: 0.8140\n",
      "Epoch 10/100\n",
      "162/162 [==============================] - 1s 6ms/step - loss: 0.4534 - accuracy: 0.8252 - val_loss: 0.6016 - val_accuracy: 0.7661\n",
      "Epoch 11/100\n",
      "162/162 [==============================] - 1s 4ms/step - loss: 0.4207 - accuracy: 0.8369 - val_loss: 0.5467 - val_accuracy: 0.8085\n",
      "Epoch 12/100\n",
      "162/162 [==============================] - 1s 5ms/step - loss: 0.4220 - accuracy: 0.8412 - val_loss: 0.5877 - val_accuracy: 0.7840\n",
      "Epoch 13/100\n",
      "162/162 [==============================] - 1s 3ms/step - loss: 0.3977 - accuracy: 0.8494 - val_loss: 0.5053 - val_accuracy: 0.8307\n",
      "Epoch 14/100\n",
      "162/162 [==============================] - 1s 3ms/step - loss: 0.3909 - accuracy: 0.8504 - val_loss: 0.4760 - val_accuracy: 0.8318\n",
      "Epoch 15/100\n",
      "162/162 [==============================] - 1s 3ms/step - loss: 0.3662 - accuracy: 0.8637 - val_loss: 0.4531 - val_accuracy: 0.8452\n",
      "Epoch 16/100\n",
      "162/162 [==============================] - 1s 3ms/step - loss: 0.3591 - accuracy: 0.8667 - val_loss: 0.4503 - val_accuracy: 0.8541\n",
      "Epoch 17/100\n",
      "162/162 [==============================] - 1s 3ms/step - loss: 0.3520 - accuracy: 0.8675 - val_loss: 0.4263 - val_accuracy: 0.8563\n",
      "Epoch 18/100\n",
      "162/162 [==============================] - 1s 3ms/step - loss: 0.3359 - accuracy: 0.8693 - val_loss: 0.4804 - val_accuracy: 0.8474\n",
      "Epoch 19/100\n",
      "162/162 [==============================] - 1s 3ms/step - loss: 0.3419 - accuracy: 0.8696 - val_loss: 0.4627 - val_accuracy: 0.8430\n",
      "Epoch 20/100\n",
      "162/162 [==============================] - 1s 3ms/step - loss: 0.3209 - accuracy: 0.8772 - val_loss: 0.5012 - val_accuracy: 0.8385\n",
      "Epoch 21/100\n",
      "162/162 [==============================] - 1s 3ms/step - loss: 0.3138 - accuracy: 0.8837 - val_loss: 0.4990 - val_accuracy: 0.8341\n",
      "Epoch 22/100\n",
      "162/162 [==============================] - 1s 4ms/step - loss: 0.3503 - accuracy: 0.8726 - val_loss: 0.4483 - val_accuracy: 0.8552\n",
      "Epoch 23/100\n",
      "162/162 [==============================] - 1s 5ms/step - loss: 0.2934 - accuracy: 0.8901 - val_loss: 0.5135 - val_accuracy: 0.8552\n",
      "Epoch 24/100\n",
      "162/162 [==============================] - 1s 5ms/step - loss: 0.2857 - accuracy: 0.8934 - val_loss: 0.4378 - val_accuracy: 0.8452\n",
      "Epoch 25/100\n",
      "162/162 [==============================] - 1s 5ms/step - loss: 0.2685 - accuracy: 0.8988 - val_loss: 0.4290 - val_accuracy: 0.8608\n",
      "Epoch 26/100\n",
      "162/162 [==============================] - 1s 4ms/step - loss: 0.2562 - accuracy: 0.9027 - val_loss: 0.4986 - val_accuracy: 0.8419\n",
      "Epoch 27/100\n",
      "162/162 [==============================] - 1s 3ms/step - loss: 0.2809 - accuracy: 0.8944 - val_loss: 0.4560 - val_accuracy: 0.8541\n",
      "Epoch 28/100\n",
      "162/162 [==============================] - 1s 3ms/step - loss: 0.2586 - accuracy: 0.9020 - val_loss: 0.4478 - val_accuracy: 0.8575\n",
      "Epoch 29/100\n",
      "162/162 [==============================] - 1s 3ms/step - loss: 0.2330 - accuracy: 0.9123 - val_loss: 0.4817 - val_accuracy: 0.8463\n",
      "Epoch 30/100\n",
      "162/162 [==============================] - 1s 3ms/step - loss: 0.2429 - accuracy: 0.9087 - val_loss: 0.4930 - val_accuracy: 0.8341\n",
      "Epoch 31/100\n",
      "162/162 [==============================] - 1s 3ms/step - loss: 0.2426 - accuracy: 0.9075 - val_loss: 0.5058 - val_accuracy: 0.8374\n",
      "Epoch 32/100\n",
      "162/162 [==============================] - 1s 3ms/step - loss: 0.2366 - accuracy: 0.9105 - val_loss: 0.4619 - val_accuracy: 0.8530\n",
      "Epoch 33/100\n",
      "162/162 [==============================] - 1s 3ms/step - loss: 0.2514 - accuracy: 0.9061 - val_loss: 0.4444 - val_accuracy: 0.8764\n",
      "Epoch 34/100\n",
      "162/162 [==============================] - 1s 3ms/step - loss: 0.2328 - accuracy: 0.9131 - val_loss: 0.4963 - val_accuracy: 0.8586\n",
      "Epoch 35/100\n",
      "162/162 [==============================] - 1s 3ms/step - loss: 0.2164 - accuracy: 0.9197 - val_loss: 0.5174 - val_accuracy: 0.8641\n",
      "Epoch 36/100\n",
      "162/162 [==============================] - 1s 3ms/step - loss: 0.2165 - accuracy: 0.9191 - val_loss: 0.5392 - val_accuracy: 0.8474\n",
      "Epoch 37/100\n",
      "162/162 [==============================] - 1s 3ms/step - loss: 0.2085 - accuracy: 0.9219 - val_loss: 0.4694 - val_accuracy: 0.8664\n",
      "Epoch 38/100\n",
      "162/162 [==============================] - 1s 3ms/step - loss: 0.2050 - accuracy: 0.9220 - val_loss: 0.4604 - val_accuracy: 0.8797\n",
      "Epoch 39/100\n",
      "162/162 [==============================] - 1s 3ms/step - loss: 0.2094 - accuracy: 0.9222 - val_loss: 0.5180 - val_accuracy: 0.8597\n",
      "Epoch 40/100\n",
      "162/162 [==============================] - 1s 3ms/step - loss: 0.2280 - accuracy: 0.9167 - val_loss: 0.5002 - val_accuracy: 0.8630\n",
      "Epoch 41/100\n",
      "162/162 [==============================] - 1s 3ms/step - loss: 0.1942 - accuracy: 0.9291 - val_loss: 0.4739 - val_accuracy: 0.8731\n",
      "Epoch 42/100\n",
      "162/162 [==============================] - 1s 3ms/step - loss: 0.1971 - accuracy: 0.9334 - val_loss: 0.5130 - val_accuracy: 0.8708\n",
      "Epoch 43/100\n",
      "162/162 [==============================] - 1s 3ms/step - loss: 0.1904 - accuracy: 0.9259 - val_loss: 0.5339 - val_accuracy: 0.8708\n",
      "Epoch 44/100\n",
      "162/162 [==============================] - 1s 3ms/step - loss: 0.2051 - accuracy: 0.9234 - val_loss: 0.4958 - val_accuracy: 0.8597\n",
      "Epoch 45/100\n",
      "162/162 [==============================] - 1s 3ms/step - loss: 0.1796 - accuracy: 0.9327 - val_loss: 0.4678 - val_accuracy: 0.8775\n",
      "Epoch 46/100\n",
      "162/162 [==============================] - 1s 3ms/step - loss: 0.1682 - accuracy: 0.9354 - val_loss: 0.5462 - val_accuracy: 0.8630\n",
      "Epoch 47/100\n",
      "162/162 [==============================] - 1s 3ms/step - loss: 0.1789 - accuracy: 0.9342 - val_loss: 0.5107 - val_accuracy: 0.8753\n",
      "Epoch 48/100\n",
      "162/162 [==============================] - 1s 3ms/step - loss: 0.1712 - accuracy: 0.9332 - val_loss: 0.5888 - val_accuracy: 0.8541\n",
      "Epoch 49/100\n",
      "162/162 [==============================] - 1s 3ms/step - loss: 0.1688 - accuracy: 0.9340 - val_loss: 0.5011 - val_accuracy: 0.8808\n",
      "Epoch 50/100\n",
      "162/162 [==============================] - 1s 3ms/step - loss: 0.1579 - accuracy: 0.9413 - val_loss: 0.5217 - val_accuracy: 0.8820\n",
      "Epoch 51/100\n",
      "162/162 [==============================] - 1s 3ms/step - loss: 0.1668 - accuracy: 0.9374 - val_loss: 0.4756 - val_accuracy: 0.8753\n",
      "Epoch 52/100\n",
      "162/162 [==============================] - 1s 3ms/step - loss: 0.1710 - accuracy: 0.9368 - val_loss: 0.6020 - val_accuracy: 0.8474\n",
      "Epoch 53/100\n",
      "162/162 [==============================] - 1s 3ms/step - loss: 0.1859 - accuracy: 0.9312 - val_loss: 0.6406 - val_accuracy: 0.8664\n",
      "Epoch 54/100\n",
      "162/162 [==============================] - 1s 3ms/step - loss: 0.1820 - accuracy: 0.9306 - val_loss: 0.6550 - val_accuracy: 0.8619\n",
      "Epoch 55/100\n",
      "162/162 [==============================] - 1s 3ms/step - loss: 0.1821 - accuracy: 0.9343 - val_loss: 0.5834 - val_accuracy: 0.8519\n",
      "Epoch 56/100\n",
      "162/162 [==============================] - 1s 3ms/step - loss: 0.1417 - accuracy: 0.9502 - val_loss: 0.4963 - val_accuracy: 0.8797\n",
      "Epoch 57/100\n",
      "162/162 [==============================] - 1s 3ms/step - loss: 0.1556 - accuracy: 0.9426 - val_loss: 0.5426 - val_accuracy: 0.8619\n",
      "Epoch 58/100\n",
      "162/162 [==============================] - 1s 3ms/step - loss: 0.1649 - accuracy: 0.9411 - val_loss: 0.4626 - val_accuracy: 0.8808\n",
      "Epoch 59/100\n",
      "162/162 [==============================] - 1s 3ms/step - loss: 0.1548 - accuracy: 0.9412 - val_loss: 0.5758 - val_accuracy: 0.8731\n",
      "Epoch 60/100\n",
      "162/162 [==============================] - 1s 3ms/step - loss: 0.1399 - accuracy: 0.9501 - val_loss: 0.5037 - val_accuracy: 0.8842\n",
      "Epoch 61/100\n",
      "162/162 [==============================] - 1s 3ms/step - loss: 0.1425 - accuracy: 0.9467 - val_loss: 0.5672 - val_accuracy: 0.8797\n",
      "Epoch 62/100\n",
      "162/162 [==============================] - 1s 3ms/step - loss: 0.1390 - accuracy: 0.9481 - val_loss: 0.6112 - val_accuracy: 0.8630\n",
      "Epoch 63/100\n",
      "162/162 [==============================] - 1s 3ms/step - loss: 0.1725 - accuracy: 0.9400 - val_loss: 0.5690 - val_accuracy: 0.8764\n",
      "Epoch 64/100\n",
      "162/162 [==============================] - 1s 3ms/step - loss: 0.1710 - accuracy: 0.9439 - val_loss: 0.4612 - val_accuracy: 0.8742\n",
      "Epoch 65/100\n",
      "162/162 [==============================] - 1s 3ms/step - loss: 0.1465 - accuracy: 0.9439 - val_loss: 0.5071 - val_accuracy: 0.8742\n",
      "Epoch 66/100\n",
      "162/162 [==============================] - 1s 3ms/step - loss: 0.1253 - accuracy: 0.9524 - val_loss: 0.4720 - val_accuracy: 0.8786\n",
      "Epoch 67/100\n",
      "162/162 [==============================] - 1s 3ms/step - loss: 0.1241 - accuracy: 0.9547 - val_loss: 0.5004 - val_accuracy: 0.8764\n",
      "Epoch 68/100\n",
      "162/162 [==============================] - 1s 3ms/step - loss: 0.1343 - accuracy: 0.9493 - val_loss: 0.5916 - val_accuracy: 0.8842\n",
      "Epoch 69/100\n",
      "162/162 [==============================] - 1s 4ms/step - loss: 0.1479 - accuracy: 0.9485 - val_loss: 0.6622 - val_accuracy: 0.8697\n",
      "Epoch 70/100\n",
      "162/162 [==============================] - 1s 3ms/step - loss: 0.1485 - accuracy: 0.9470 - val_loss: 0.4997 - val_accuracy: 0.8875\n",
      "Epoch 71/100\n",
      "162/162 [==============================] - 1s 3ms/step - loss: 0.1363 - accuracy: 0.9498 - val_loss: 0.5959 - val_accuracy: 0.8697\n",
      "Epoch 72/100\n",
      "162/162 [==============================] - 1s 3ms/step - loss: 0.1535 - accuracy: 0.9454 - val_loss: 0.5474 - val_accuracy: 0.8842\n",
      "Epoch 73/100\n",
      "162/162 [==============================] - 1s 3ms/step - loss: 0.1248 - accuracy: 0.9541 - val_loss: 0.4886 - val_accuracy: 0.8831\n",
      "Epoch 74/100\n",
      "162/162 [==============================] - 1s 3ms/step - loss: 0.1172 - accuracy: 0.9568 - val_loss: 0.6111 - val_accuracy: 0.8831\n",
      "Epoch 75/100\n",
      "162/162 [==============================] - 1s 3ms/step - loss: 0.1412 - accuracy: 0.9480 - val_loss: 0.6410 - val_accuracy: 0.8597\n",
      "Epoch 76/100\n",
      "162/162 [==============================] - 1s 3ms/step - loss: 0.1442 - accuracy: 0.9511 - val_loss: 0.5091 - val_accuracy: 0.8853\n",
      "Epoch 77/100\n",
      "162/162 [==============================] - 1s 3ms/step - loss: 0.1227 - accuracy: 0.9525 - val_loss: 0.5704 - val_accuracy: 0.8808\n",
      "Epoch 78/100\n",
      "162/162 [==============================] - 1s 3ms/step - loss: 0.1133 - accuracy: 0.9598 - val_loss: 0.5361 - val_accuracy: 0.8909\n",
      "Epoch 79/100\n",
      "162/162 [==============================] - 1s 3ms/step - loss: 0.1282 - accuracy: 0.9494 - val_loss: 0.5796 - val_accuracy: 0.8875\n",
      "Epoch 80/100\n",
      "162/162 [==============================] - 1s 3ms/step - loss: 0.1141 - accuracy: 0.9574 - val_loss: 0.5670 - val_accuracy: 0.8786\n",
      "Epoch 81/100\n",
      "162/162 [==============================] - 1s 3ms/step - loss: 0.1158 - accuracy: 0.9558 - val_loss: 0.6224 - val_accuracy: 0.8630\n",
      "Epoch 82/100\n",
      "162/162 [==============================] - 1s 3ms/step - loss: 0.1135 - accuracy: 0.9580 - val_loss: 0.5596 - val_accuracy: 0.8808\n",
      "Epoch 83/100\n",
      "162/162 [==============================] - 1s 3ms/step - loss: 0.1029 - accuracy: 0.9604 - val_loss: 0.6336 - val_accuracy: 0.8708\n",
      "Epoch 84/100\n",
      "162/162 [==============================] - 1s 3ms/step - loss: 0.1185 - accuracy: 0.9557 - val_loss: 0.6397 - val_accuracy: 0.8697\n",
      "Epoch 85/100\n",
      "162/162 [==============================] - 1s 3ms/step - loss: 0.1696 - accuracy: 0.9406 - val_loss: 0.5928 - val_accuracy: 0.8697\n",
      "Epoch 86/100\n",
      "162/162 [==============================] - 1s 3ms/step - loss: 0.1212 - accuracy: 0.9551 - val_loss: 0.5889 - val_accuracy: 0.8808\n",
      "Epoch 87/100\n",
      "162/162 [==============================] - 1s 3ms/step - loss: 0.1265 - accuracy: 0.9611 - val_loss: 0.5956 - val_accuracy: 0.8719\n",
      "Epoch 88/100\n",
      "162/162 [==============================] - 1s 3ms/step - loss: 0.1084 - accuracy: 0.9605 - val_loss: 0.5750 - val_accuracy: 0.8675\n",
      "Epoch 89/100\n",
      "162/162 [==============================] - 1s 3ms/step - loss: 0.1026 - accuracy: 0.9614 - val_loss: 0.5816 - val_accuracy: 0.8742\n",
      "Epoch 90/100\n",
      "162/162 [==============================] - 1s 3ms/step - loss: 0.1057 - accuracy: 0.9610 - val_loss: 0.5588 - val_accuracy: 0.8920\n",
      "Epoch 91/100\n",
      "162/162 [==============================] - 1s 3ms/step - loss: 0.0902 - accuracy: 0.9655 - val_loss: 0.5788 - val_accuracy: 0.8886\n",
      "Epoch 92/100\n",
      "162/162 [==============================] - 1s 3ms/step - loss: 0.1043 - accuracy: 0.9631 - val_loss: 0.5955 - val_accuracy: 0.8864\n",
      "Epoch 93/100\n",
      "162/162 [==============================] - 1s 3ms/step - loss: 0.0946 - accuracy: 0.9634 - val_loss: 0.5833 - val_accuracy: 0.8719\n",
      "Epoch 94/100\n",
      "162/162 [==============================] - 1s 3ms/step - loss: 0.1031 - accuracy: 0.9629 - val_loss: 0.6227 - val_accuracy: 0.8842\n",
      "Epoch 95/100\n",
      "162/162 [==============================] - 1s 3ms/step - loss: 0.1134 - accuracy: 0.9574 - val_loss: 0.6197 - val_accuracy: 0.8931\n",
      "Epoch 96/100\n",
      "162/162 [==============================] - 1s 3ms/step - loss: 0.1036 - accuracy: 0.9644 - val_loss: 0.6305 - val_accuracy: 0.8842\n",
      "Epoch 97/100\n",
      "162/162 [==============================] - 1s 3ms/step - loss: 0.1069 - accuracy: 0.9599 - val_loss: 0.6361 - val_accuracy: 0.8753\n",
      "Epoch 98/100\n",
      "162/162 [==============================] - 1s 3ms/step - loss: 0.0920 - accuracy: 0.9666 - val_loss: 0.6181 - val_accuracy: 0.8653\n",
      "Epoch 99/100\n",
      "162/162 [==============================] - 1s 3ms/step - loss: 0.0849 - accuracy: 0.9684 - val_loss: 0.6182 - val_accuracy: 0.8775\n",
      "Epoch 100/100\n",
      "162/162 [==============================] - 1s 4ms/step - loss: 0.0882 - accuracy: 0.9653 - val_loss: 0.7684 - val_accuracy: 0.8486\n"
     ]
    }
   ]
  },
  {
   "cell_type": "code",
   "source": [
    "plot_metric(long_history, 'loss')\n",
    "plot_metric(long_history, 'accuracy')"
   ],
   "metadata": {
    "colab": {
     "base_uri": "https://localhost:8080/",
     "height": 573
    },
    "id": "Z5bRNkRfU6jy",
    "executionInfo": {
     "status": "ok",
     "timestamp": 1660954430095,
     "user_tz": -60,
     "elapsed": 692,
     "user": {
      "displayName": "Zhiping Huang",
      "userId": "02292109596216248154"
     }
    },
    "outputId": "cf031ba4-d109-4ac6-f94a-f500dbe21cab"
   },
   "execution_count": 28,
   "outputs": [
    {
     "output_type": "display_data",
     "data": {
      "text/plain": [
       "<Figure size 432x288 with 1 Axes>"
      ],
      "image/png": "[encoded data removed]"
     },
     "metadata": {
      "needs_background": "light"
     }
    },
    {
     "output_type": "display_data",
     "data": {
      "text/plain": [
       "<Figure size 432x288 with 1 Axes>"
      ],
      "image/png": "[encoded data removed]"
     },
     "metadata": {
      "needs_background": "light"
     }
    }
   ]
  },
  {
   "cell_type": "code",
   "source": [
    "model = construct_model()\n",
    "history = model.fit(X_train, y_train, validation_split=0.1, batch_size=50, epochs=20, shuffle=True)\n",
    "plot_metric(history, 'loss')\n",
    "plot_metric(history, 'accuracy')"
   ],
   "metadata": {
    "colab": {
     "base_uri": "https://localhost:8080/",
     "height": 1000
    },
    "id": "27H2SFfnT5u4",
    "executionInfo": {
     "status": "ok",
     "timestamp": 1660954460541,
     "user_tz": -60,
     "elapsed": 21421,
     "user": {
      "displayName": "Zhiping Huang",
      "userId": "02292109596216248154"
     }
    },
    "outputId": "fab1f7fb-9c10-41c4-b2e1-bec99ff3e85c"
   },
   "execution_count": 29,
   "outputs": [
    {
     "output_type": "stream",
     "name": "stdout",
     "text": [
      "Epoch 1/20\n",
      "162/162 [==============================] - 1s 4ms/step - loss: 1.0286 - accuracy: 0.5829 - val_loss: 0.9209 - val_accuracy: 0.6392\n",
      "Epoch 2/20\n",
      "162/162 [==============================] - 1s 3ms/step - loss: 0.7800 - accuracy: 0.6948 - val_loss: 0.7522 - val_accuracy: 0.7160\n",
      "Epoch 3/20\n",
      "162/162 [==============================] - 1s 3ms/step - loss: 0.6845 - accuracy: 0.7285 - val_loss: 0.6846 - val_accuracy: 0.7383\n",
      "Epoch 4/20\n",
      "162/162 [==============================] - 1s 3ms/step - loss: 0.6201 - accuracy: 0.7587 - val_loss: 0.7090 - val_accuracy: 0.7205\n",
      "Epoch 5/20\n",
      "162/162 [==============================] - 1s 3ms/step - loss: 0.5823 - accuracy: 0.7751 - val_loss: 0.5821 - val_accuracy: 0.7751\n",
      "Epoch 6/20\n",
      "162/162 [==============================] - 1s 3ms/step - loss: 0.5356 - accuracy: 0.7926 - val_loss: 0.5591 - val_accuracy: 0.7951\n",
      "Epoch 7/20\n",
      "162/162 [==============================] - 1s 3ms/step - loss: 0.5147 - accuracy: 0.8016 - val_loss: 0.6418 - val_accuracy: 0.7795\n",
      "Epoch 8/20\n",
      "162/162 [==============================] - 1s 3ms/step - loss: 0.4818 - accuracy: 0.8152 - val_loss: 0.5539 - val_accuracy: 0.7806\n",
      "Epoch 9/20\n",
      "162/162 [==============================] - 1s 3ms/step - loss: 0.4819 - accuracy: 0.8176 - val_loss: 0.5117 - val_accuracy: 0.7996\n",
      "Epoch 10/20\n",
      "162/162 [==============================] - 1s 3ms/step - loss: 0.4357 - accuracy: 0.8340 - val_loss: 0.5092 - val_accuracy: 0.8207\n",
      "Epoch 11/20\n",
      "162/162 [==============================] - 1s 3ms/step - loss: 0.4271 - accuracy: 0.8334 - val_loss: 0.5154 - val_accuracy: 0.8196\n",
      "Epoch 12/20\n",
      "162/162 [==============================] - 1s 3ms/step - loss: 0.4029 - accuracy: 0.8490 - val_loss: 0.5143 - val_accuracy: 0.8107\n",
      "Epoch 13/20\n",
      "162/162 [==============================] - 1s 3ms/step - loss: 0.3975 - accuracy: 0.8476 - val_loss: 0.5257 - val_accuracy: 0.8207\n",
      "Epoch 14/20\n",
      "162/162 [==============================] - 1s 3ms/step - loss: 0.3856 - accuracy: 0.8546 - val_loss: 0.6721 - val_accuracy: 0.7817\n",
      "Epoch 15/20\n",
      "162/162 [==============================] - 1s 3ms/step - loss: 0.3763 - accuracy: 0.8590 - val_loss: 0.4746 - val_accuracy: 0.8352\n",
      "Epoch 16/20\n",
      "162/162 [==============================] - 1s 3ms/step - loss: 0.3450 - accuracy: 0.8712 - val_loss: 0.5655 - val_accuracy: 0.8107\n",
      "Epoch 17/20\n",
      "162/162 [==============================] - 1s 3ms/step - loss: 0.3514 - accuracy: 0.8663 - val_loss: 0.4903 - val_accuracy: 0.8163\n",
      "Epoch 18/20\n",
      "162/162 [==============================] - 1s 3ms/step - loss: 0.3352 - accuracy: 0.8739 - val_loss: 0.4640 - val_accuracy: 0.8519\n",
      "Epoch 19/20\n",
      "162/162 [==============================] - 1s 3ms/step - loss: 0.3547 - accuracy: 0.8688 - val_loss: 0.4993 - val_accuracy: 0.8363\n",
      "Epoch 20/20\n",
      "162/162 [==============================] - 1s 3ms/step - loss: 0.3175 - accuracy: 0.8811 - val_loss: 0.4914 - val_accuracy: 0.8385\n"
     ]
    },
    {
     "output_type": "display_data",
     "data": {
      "text/plain": [
       "<Figure size 432x288 with 1 Axes>"
      ],
      "image/png": "[encoded data removed]"
     },
     "metadata": {
      "needs_background": "light"
     }
    },
    {
     "output_type": "display_data",
     "data": {
      "text/plain": [
       "<Figure size 432x288 with 1 Axes>"
      ],
      "image/png": "[encoded data removed]"
     },
     "metadata": {
      "needs_background": "light"
     }
    }
   ]
  },
  {
   "cell_type": "code",
   "source": [
    "from numpy import argmax\n",
    "y_pred = model.predict(X_test)\n",
    "y_pred = argmax(y_pred,axis=1)\n",
    "\n",
    "\n",
    "count = 0\n",
    "for i in range(len(y_test)):\n",
    "  if y_pred[i] == argmax(y_test[i]):\n",
    "    count += 1\n",
    "\n",
    "print(\"Accuracy against test set:\", count/len(y_pred))\n",
    "\n",
    "\n"
   ],
   "metadata": {
    "colab": {
     "base_uri": "https://localhost:8080/"
    },
    "id": "lc6AFThn14L9",
    "executionInfo": {
     "status": "ok",
     "timestamp": 1660954510166,
     "user_tz": -60,
     "elapsed": 629,
     "user": {
      "displayName": "Zhiping Huang",
      "userId": "02292109596216248154"
     }
    },
    "outputId": "4cf69d18-6945-44dd-dab1-62c3275b92a6"
   },
   "execution_count": 31,
   "outputs": [
    {
     "output_type": "stream",
     "name": "stdout",
     "text": [
      "Accuracy against test set: 0.8577154308617234\n"
     ]
    }
   ]
  },
  {
   "cell_type": "markdown",
   "source": [
    "# Post-process"
   ],
   "metadata": {
    "id": "iZUmxsUijsbW"
   }
  },
  {
   "cell_type": "code",
   "source": [
    "from sklearn.metrics import confusion_matrix, ConfusionMatrixDisplay\n",
    "from sklearn.metrics import classification_report\n",
    "\n",
    "y_true = argmax(y_test,axis=1)\n",
    "\n",
    "cm = confusion_matrix(y_true,y_pred)\n",
    "disp = ConfusionMatrixDisplay(confusion_matrix=cm,display_labels=le.classes_)\n",
    "disp.plot(xticks_rotation=45)\n",
    "plt.tight_layout()\n",
    "plt.show()\n",
    "disp.figure_.savefig(\"/content/drive/MyDrive/confusionMatrix.jpg\",pad_inches=5)\n",
    "report = classification_report(y_true, y_pred, target_names=le.classes_)\n",
    "print(report)"
   ],
   "metadata": {
    "colab": {
     "base_uri": "https://localhost:8080/",
     "height": 505
    },
    "id": "LhX1IujBjrBo",
    "executionInfo": {
     "status": "ok",
     "timestamp": 1660958866877,
     "user_tz": -60,
     "elapsed": 689,
     "user": {
      "displayName": "Zhiping Huang",
      "userId": "02292109596216248154"
     }
    },
    "outputId": "e601b774-279b-43f2-bf6b-8913d5279108"
   },
   "execution_count": 65,
   "outputs": [
    {
     "output_type": "display_data",
     "data": {
      "text/plain": [
       "<Figure size 432x288 with 2 Axes>"
      ],
      "image/png": "[encoded data removed]"
     },
     "metadata": {
      "needs_background": "light"
     }
    },
    {
     "output_type": "stream",
     "name": "stdout",
     "text": [
      "                 precision    recall  f1-score   support\n",
      "\n",
      "        darknet       0.79      0.80      0.79       200\n",
      "      exchanges       0.92      0.88      0.90       202\n",
      "       gambling       0.79      0.79      0.79       186\n",
      "           pool       0.91      0.97      0.94       196\n",
      "services_others       0.87      0.86      0.86       214\n",
      "\n",
      "       accuracy                           0.86       998\n",
      "      macro avg       0.86      0.86      0.86       998\n",
      "   weighted avg       0.86      0.86      0.86       998\n",
      "\n"
     ]
    }
   ]
  },
  {
   "cell_type": "markdown",
   "source": [
    "# Save models"
   ],
   "metadata": {
    "id": "DEpf-71x3qKA"
   }
  },
  {
   "cell_type": "code",
   "source": [
    "model.save(\"/content/drive/MyDrive/bitcoin_address_classifier.h5\")"
   ],
   "metadata": {
    "id": "KtOfN9gTXH2T",
    "executionInfo": {
     "status": "ok",
     "timestamp": 1660958127612,
     "user_tz": -60,
     "elapsed": 239,
     "user": {
      "displayName": "Zhiping Huang",
      "userId": "02292109596216248154"
     }
    }
   },
   "execution_count": 56,
   "outputs": []
  },
  {
   "cell_type": "code",
   "source": [
    "import joblib\n",
    "\n",
    "joblib.dump(se,\"/content/drive/MyDrive/StandardScaler.pkl\")\n",
    "joblib.dump(le,\"/content/drive/MyDrive/LabelEncoder.pkl\")"
   ],
   "metadata": {
    "colab": {
     "base_uri": "https://localhost:8080/"
    },
    "id": "7cp8BstCbXgU",
    "executionInfo": {
     "status": "ok",
     "timestamp": 1660958128892,
     "user_tz": -60,
     "elapsed": 208,
     "user": {
      "displayName": "Zhiping Huang",
      "userId": "02292109596216248154"
     }
    },
    "outputId": "60e8989a-53f7-4a28-aeff-7328e5b59f3d"
   },
   "execution_count": 57,
   "outputs": [
    {
     "output_type": "execute_result",
     "data": {
      "text/plain": [
       "['/content/drive/MyDrive/LabelEncoder.pkl']"
      ]
     },
     "metadata": {},
     "execution_count": 57
    }
   ]
  },
  {
   "cell_type": "markdown",
   "source": [
    "# Reload model"
   ],
   "metadata": {
    "id": "yAxp6Dqm3w7-"
   }
  },
  {
   "cell_type": "code",
   "source": [
    "import joblib,keras\n",
    "label_encoder = joblib.load(\"/content/drive/MyDrive/LabelEncoder.pkl\")\n",
    "standard_scaler = joblib.load(\"/content/drive/MyDrive/StandardScaler.pkl\")\n",
    "model = keras.models.load_model(\"/content/drive/MyDrive/bitcoin_address_classifier.h5\")\n",
    "\n",
    "print(label_encoder.classes_)\n",
    "print(label_encoder.inverse_transform([0])[0])\n",
    "print(X_test[0])"
   ],
   "metadata": {
    "colab": {
     "base_uri": "https://localhost:8080/"
    },
    "id": "Bos_u5LtQGfS",
    "executionInfo": {
     "status": "ok",
     "timestamp": 1660958131009,
     "user_tz": -60,
     "elapsed": 207,
     "user": {
      "displayName": "Zhiping Huang",
      "userId": "02292109596216248154"
     }
    },
    "outputId": "cd836e37-7428-4b88-80ac-c4380ad23474"
   },
   "execution_count": 58,
   "outputs": [
    {
     "output_type": "stream",
     "name": "stdout",
     "text": [
      "['darknet' 'exchanges' 'gambling' 'pool' 'services_others']\n",
      "darknet\n",
      "[-0.07176965 -0.3906604  -0.25291323 -0.2215515  -0.18925134 -0.35388887\n",
      " -0.18266957 -0.17948954 -0.37900876 -0.25886246 -0.48075073 -0.20549151\n",
      " -0.47684157 -0.35114264 -0.25094173 -0.45184497 -0.19902478 -0.44173748\n",
      " -0.33134763 -0.19906404 -0.35958138 -0.19390616 -0.42016787 -0.2588974\n",
      " -0.19997339 -0.31331734 -0.08189758 -0.28057303 -0.17169184 -0.2395167\n",
      "  0.00070627 -0.19837052 -0.08679251 -0.17199358 -0.2400331   0.00088055\n",
      " -0.19897816 -0.086789  ]\n"
     ]
    }
   ]
  },
  {
   "cell_type": "code",
   "source": [
    "X = range(38)\n",
    "print(X)\n",
    "X = np.expand_dims(X,axis=0)\n",
    "print(X.shape)\n",
    "# print(np.argmax(model.predict(X),axis=1)[0])\n",
    "a = [1,2,3,4,5]\n",
    "print(type(a))\n",
    "a = np.array(a)\n",
    "print(type(a))\n",
    "print(a.reshape(1,-1))\n",
    "print(standard_scaler.transform(X))"
   ],
   "metadata": {
    "colab": {
     "base_uri": "https://localhost:8080/"
    },
    "id": "TYXLn5qodG2Z",
    "executionInfo": {
     "status": "ok",
     "timestamp": 1660958132971,
     "user_tz": -60,
     "elapsed": 242,
     "user": {
      "displayName": "Zhiping Huang",
      "userId": "02292109596216248154"
     }
    },
    "outputId": "e746325a-3f2b-44e6-d415-f30d2abe62db"
   },
   "execution_count": 59,
   "outputs": [
    {
     "output_type": "stream",
     "name": "stdout",
     "text": [
      "range(0, 38)\n",
      "(1, 38)\n",
      "<class 'list'>\n",
      "<class 'numpy.ndarray'>\n",
      "[[1 2 3 4 5]]\n",
      "[[-0.0722207  -0.55629257 -0.39064298 -0.25197244 -0.40217842 -0.35374705\n",
      "  -0.39360358 -0.39038587 -0.47455294 -0.27658601 -0.65795481 -0.27979385\n",
      "  -0.61541992 -0.4504494  -0.269087   -0.64526355 -0.27880711 -0.58719487\n",
      "  -0.1931074   0.68043654 -0.34704732  3.08955203 -0.56203212 -0.21992857\n",
      "  -0.16391948 -0.25140681  0.34485432 -0.26769844 -0.3172567  -0.25297007\n",
      "  -0.29880655 -0.19953016 -0.30721627 -0.31753219 -0.25348517 -0.29868718\n",
      "  -0.20013705 -0.30721127]]\n"
     ]
    }
   ]
  }
 ],
 "metadata": {
  "kernelspec": {
   "display_name": "Python 3",
   "language": "python",
   "name": "python3"
  },
  "language_info": {
   "codemirror_mode": {
    "name": "ipython",
    "version": 2
   },
   "file_extension": ".py",
   "mimetype": "text/x-python",
   "name": "python",
   "nbconvert_exporter": "python",
   "pygments_lexer": "ipython2",
   "version": "2.7.6"
  },
  "colab": {
   "name": "ML.ipynb",
   "provenance": [],
   "collapsed_sections": []
  },
  "accelerator": "GPU",
  "gpuClass": "standard"
 },
 "nbformat": 4,
 "nbformat_minor": 0
}